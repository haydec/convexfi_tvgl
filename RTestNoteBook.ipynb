{
 "cells": [
  {
   "cell_type": "code",
   "execution_count": 1,
   "id": "84e5ab5f",
   "metadata": {
    "vscode": {
     "languageId": "r"
    }
   },
   "outputs": [
    {
     "name": "stderr",
     "output_type": "stream",
     "text": [
      "Warning message:\n",
      "\"package 'MASS' was built under R version 4.5.1\"\n",
      "Warning message:\n",
      "\"package 'fitHeavyTail' was built under R version 4.5.1\"\n",
      "Loading required package: zoo\n",
      "\n",
      "\n",
      "Attaching package: 'zoo'\n",
      "\n",
      "\n",
      "The following objects are masked from 'package:base':\n",
      "\n",
      "    as.Date, as.Date.numeric\n",
      "\n",
      "\n",
      "Warning message:\n",
      "\"package 'quantmod' was built under R version 4.5.1\"\n",
      "Loading required package: TTR\n",
      "\n",
      "Registered S3 method overwritten by 'quantmod':\n",
      "  method            from\n",
      "  as.zoo.data.frame zoo \n",
      "\n",
      "Warning message:\n",
      "\"package 'igraph' was built under R version 4.5.1\"\n",
      "\n",
      "Attaching package: 'igraph'\n",
      "\n",
      "\n",
      "The following objects are masked from 'package:stats':\n",
      "\n",
      "    decompose, spectrum\n",
      "\n",
      "\n",
      "The following object is masked from 'package:base':\n",
      "\n",
      "    union\n",
      "\n",
      "\n",
      "\n",
      "Attaching package: 'spectralGraphTopology'\n",
      "\n",
      "\n",
      "The following object is masked from 'package:stats':\n",
      "\n",
      "    D\n",
      "\n",
      "\n",
      "\n",
      "Attaching package: 'combinat'\n",
      "\n",
      "\n",
      "The following object is masked from 'package:utils':\n",
      "\n",
      "    combn\n",
      "\n",
      "\n",
      "Warning message:\n",
      "\"package 'ggplot2' was built under R version 4.5.1\"\n",
      "Warning message:\n",
      "\"package 'reshape2' was built under R version 4.5.1\"\n",
      "Loading required package: devtools\n",
      "\n",
      "Warning message:\n",
      "\"package 'devtools' was built under R version 4.5.1\"\n",
      "Loading required package: usethis\n",
      "\n",
      "Warning message:\n",
      "\"package 'usethis' was built under R version 4.5.1\"\n",
      "Warning message:\n",
      "\"package 'Matrix' was built under R version 4.5.1\"\n",
      "Warning message:\n",
      "\"package 'LaplacesDemon' was built under R version 4.5.1\"\n",
      "Warning message:\n",
      "\"package 'expm' was built under R version 4.5.1\"\n",
      "\n",
      "Attaching package: 'expm'\n",
      "\n",
      "\n",
      "The following object is masked from 'package:Matrix':\n",
      "\n",
      "    expm\n",
      "\n",
      "\n",
      "Warning message:\n",
      "\"package 'assertthat' was built under R version 4.5.1\"\n"
     ]
    }
   ],
   "source": [
    "library(MASS)\n",
    "library(fitHeavyTail)\n",
    "library(xts)\n",
    "library(quantmod)\n",
    "library(igraph)\n",
    "library(readr)\n",
    "library(spectralGraphTopology)\n",
    "library(combinat)\n",
    "library(ggplot2)\n",
    "library(reshape2)\n",
    "library(ktvgraph)\n",
    "\n",
    "library(Matrix)\n",
    "library(LaplacesDemon)\n",
    "library(expm)\n",
    "\n",
    "source(\"R/utils.R\")\n",
    "source(\"R/learn_kcomp_heavytail_TV_graph_online.R\")\n",
    "\n",
    "options(warn = -1)"
   ]
  },
  {
   "cell_type": "code",
   "execution_count": 2,
   "id": "d8334d30",
   "metadata": {
    "vscode": {
     "languageId": "r"
    }
   },
   "outputs": [
    {
     "data": {
      "text/html": [
       "<table class=\"dataframe\">\n",
       "<caption>A matrix: 6 × 10 of type dbl</caption>\n",
       "<thead>\n",
       "\t<tr><th></th><th scope=col>A</th><th scope=col>AAL</th><th scope=col>ABBV</th><th scope=col>ABC</th><th scope=col>ABMD</th><th scope=col>ABT</th><th scope=col>ADM</th><th scope=col>AEE</th><th scope=col>AEP</th><th scope=col>AES</th></tr>\n",
       "</thead>\n",
       "<tbody>\n",
       "\t<tr><th scope=row>1</th><td>-0.2706328</td><td>-0.38601423</td><td>-0.28673217</td><td> 1.1255779</td><td>-0.21450536</td><td>-0.009463173</td><td> 0.5640626</td><td> 1.008088039</td><td> 0.7115951</td><td> 0.6613222</td></tr>\n",
       "\t<tr><th scope=row>2</th><td> 0.2571223</td><td> 0.71744928</td><td>-0.02113479</td><td>-1.0335841</td><td> 0.06350252</td><td>-0.532614709</td><td>-1.4113041</td><td> 0.516217296</td><td> 0.2966966</td><td>-1.9450751</td></tr>\n",
       "\t<tr><th scope=row>3</th><td>-2.9480683</td><td>-0.77586550</td><td>-0.21298577</td><td>-2.2636938</td><td>-1.86305946</td><td>-1.544144308</td><td>-1.3814046</td><td>-0.007945391</td><td>-1.1281159</td><td>-1.4168692</td></tr>\n",
       "\t<tr><th scope=row>4</th><td>-0.7478337</td><td>-0.07485781</td><td>-1.72006894</td><td>-0.3407103</td><td> 1.30967554</td><td>-1.346642996</td><td>-0.2592677</td><td>-0.783191987</td><td>-0.1941153</td><td> 0.6960179</td></tr>\n",
       "\t<tr><th scope=row>5</th><td>-1.1779783</td><td> 0.72008389</td><td>-2.00563503</td><td>-2.8534563</td><td> 0.12618782</td><td> 0.099603967</td><td>-0.4219023</td><td>-0.049568420</td><td> 0.7599951</td><td>-0.6576122</td></tr>\n",
       "\t<tr><th scope=row>6</th><td> 0.4004271</td><td> 0.91310488</td><td> 1.04670031</td><td> 0.1698866</td><td> 1.58846565</td><td> 1.140201274</td><td> 0.1275989</td><td>-0.365566785</td><td>-1.0048859</td><td>-1.7512894</td></tr>\n",
       "</tbody>\n",
       "</table>\n"
      ],
      "text/latex": [
       "A matrix: 6 × 10 of type dbl\n",
       "\\begin{tabular}{r|llllllllll}\n",
       "  & A & AAL & ABBV & ABC & ABMD & ABT & ADM & AEE & AEP & AES\\\\\n",
       "\\hline\n",
       "\t1 & -0.2706328 & -0.38601423 & -0.28673217 &  1.1255779 & -0.21450536 & -0.009463173 &  0.5640626 &  1.008088039 &  0.7115951 &  0.6613222\\\\\n",
       "\t2 &  0.2571223 &  0.71744928 & -0.02113479 & -1.0335841 &  0.06350252 & -0.532614709 & -1.4113041 &  0.516217296 &  0.2966966 & -1.9450751\\\\\n",
       "\t3 & -2.9480683 & -0.77586550 & -0.21298577 & -2.2636938 & -1.86305946 & -1.544144308 & -1.3814046 & -0.007945391 & -1.1281159 & -1.4168692\\\\\n",
       "\t4 & -0.7478337 & -0.07485781 & -1.72006894 & -0.3407103 &  1.30967554 & -1.346642996 & -0.2592677 & -0.783191987 & -0.1941153 &  0.6960179\\\\\n",
       "\t5 & -1.1779783 &  0.72008389 & -2.00563503 & -2.8534563 &  0.12618782 &  0.099603967 & -0.4219023 & -0.049568420 &  0.7599951 & -0.6576122\\\\\n",
       "\t6 &  0.4004271 &  0.91310488 &  1.04670031 &  0.1698866 &  1.58846565 &  1.140201274 &  0.1275989 & -0.365566785 & -1.0048859 & -1.7512894\\\\\n",
       "\\end{tabular}\n"
      ],
      "text/markdown": [
       "\n",
       "A matrix: 6 × 10 of type dbl\n",
       "\n",
       "| <!--/--> | A | AAL | ABBV | ABC | ABMD | ABT | ADM | AEE | AEP | AES |\n",
       "|---|---|---|---|---|---|---|---|---|---|---|\n",
       "| 1 | -0.2706328 | -0.38601423 | -0.28673217 |  1.1255779 | -0.21450536 | -0.009463173 |  0.5640626 |  1.008088039 |  0.7115951 |  0.6613222 |\n",
       "| 2 |  0.2571223 |  0.71744928 | -0.02113479 | -1.0335841 |  0.06350252 | -0.532614709 | -1.4113041 |  0.516217296 |  0.2966966 | -1.9450751 |\n",
       "| 3 | -2.9480683 | -0.77586550 | -0.21298577 | -2.2636938 | -1.86305946 | -1.544144308 | -1.3814046 | -0.007945391 | -1.1281159 | -1.4168692 |\n",
       "| 4 | -0.7478337 | -0.07485781 | -1.72006894 | -0.3407103 |  1.30967554 | -1.346642996 | -0.2592677 | -0.783191987 | -0.1941153 |  0.6960179 |\n",
       "| 5 | -1.1779783 |  0.72008389 | -2.00563503 | -2.8534563 |  0.12618782 |  0.099603967 | -0.4219023 | -0.049568420 |  0.7599951 | -0.6576122 |\n",
       "| 6 |  0.4004271 |  0.91310488 |  1.04670031 |  0.1698866 |  1.58846565 |  1.140201274 |  0.1275989 | -0.365566785 | -1.0048859 | -1.7512894 |\n",
       "\n"
      ],
      "text/plain": [
       "  A          AAL         ABBV        ABC        ABMD        ABT         \n",
       "1 -0.2706328 -0.38601423 -0.28673217  1.1255779 -0.21450536 -0.009463173\n",
       "2  0.2571223  0.71744928 -0.02113479 -1.0335841  0.06350252 -0.532614709\n",
       "3 -2.9480683 -0.77586550 -0.21298577 -2.2636938 -1.86305946 -1.544144308\n",
       "4 -0.7478337 -0.07485781 -1.72006894 -0.3407103  1.30967554 -1.346642996\n",
       "5 -1.1779783  0.72008389 -2.00563503 -2.8534563  0.12618782  0.099603967\n",
       "6  0.4004271  0.91310488  1.04670031  0.1698866  1.58846565  1.140201274\n",
       "  ADM        AEE          AEP        AES       \n",
       "1  0.5640626  1.008088039  0.7115951  0.6613222\n",
       "2 -1.4113041  0.516217296  0.2966966 -1.9450751\n",
       "3 -1.3814046 -0.007945391 -1.1281159 -1.4168692\n",
       "4 -0.2592677 -0.783191987 -0.1941153  0.6960179\n",
       "5 -0.4219023 -0.049568420  0.7599951 -0.6576122\n",
       "6  0.1275989 -0.365566785 -1.0048859 -1.7512894"
      ]
     },
     "metadata": {},
     "output_type": "display_data"
    },
    {
     "name": "stdout",
     "output_type": "stream",
     "text": [
      "w0 0.02479199 0.01695928 0.008705979 0.03772791 0.04709995 0.02619128 0.002494648 0 0.03320912 0 0.01864713 0.02598423 0.03416878 0.03912432 0.0007317251 0 0.02691992 0.02042875 0.03874434 0.03514684 0.01688847 0.04342322 0 0.003877046 0 0.08609423 0.002188217 0 0.01720016 0.0158432 0.01544395 0.004580683 0.009920442 0.01946893 0 0 0 0.02368696 0 0 0.01582319 0.07795123 0.1672792 0.008029461 0.0352252NULL\n"
     ]
    }
   ],
   "source": [
    "set.seed(42)\n",
    "\n",
    "\n",
    "pdf(file = \"Plots_TVGL_results.pdf\")\n",
    "\n",
    "\n",
    "# number of sectors\n",
    "q <- 1\n",
    "winLen <-  200\n",
    "\n",
    "# number of stocks\n",
    "r <- 10\n",
    "#log_returns <- read.csv(\"log_rw_returns.csv\")\n",
    "log_returns <- read.csv(\"log_returns.csv\")\n",
    "\n",
    "Nday <- nrow(log_returns) \n",
    "\n",
    "Nwin <- Nday%/% winLen  \n",
    "\n",
    "\n",
    "Nday <- nrow(log_returns) \n",
    "\n",
    "Nwin <- Nday%/% winLen  \n",
    "\n",
    "\n",
    "\n",
    "\n",
    "#----------------------------\n",
    "## Online TV graph learning (proposed)\n",
    "forget_fac <- 0.1\n",
    "data_frame <- scale(log_returns[1:winLen,1:r])\n",
    "#data_frame <- rw_t[1:winLen,]\n",
    "\n",
    "S_cov <- cor(data_frame)\n",
    "\n",
    "w <- spectralGraphTopology:::w_init('naive', MASS::ginv(S_cov))\n",
    "\n",
    "w0 <- w\n",
    "A0 <- A(w)\n",
    "A0 <- A0 / rowSums(A0)\n",
    "w0 <- spectralGraphTopology:::Ainv(A0)\n",
    "w0 = w0/sum(w0)\n",
    "\n",
    "w_lagged <- w0\n",
    "\n",
    "w_lagged <- 0\n",
    "\n",
    "graphs_list <- vector(\"list\", Nwin)\n",
    "\n",
    "components_graph <- vector(\"list\", Nwin)\n",
    "\n",
    "accuracy_vec <- rep(0,Nwin)\n",
    "accuracy_adj_vec <- rep(0,Nwin)\n",
    "purity_vec <- rep(0,Nwin)\n",
    "mod_g_vec <- rep(0,Nwin)\n",
    "mod_gt_vec <- rep(0,Nwin)\n",
    "balanced_vec <- rep(0,Nwin)\n",
    "balanced_norm_vec <- rep(0,Nwin)\n",
    "GINI_vec <- rep(0,Nwin)\n",
    "rank_mat <- rep(0,Nwin)\n",
    "\n",
    "#cat(\"init w: \",w,\"\\n\")\n",
    "#cat(\"init w_lagged: \", w_lagged,\"\\n\")\n",
    "#cat(\"init w0: \",w0,\"\\n\")\n",
    "\n",
    "Cluster = TRUE\n",
    "\n",
    "# heavy_type = \"gaussian\"\n",
    "# heavy_type = \"student\"\n",
    "\n",
    "head(data_frame)\n",
    "\n",
    "print(cat(\"w0\", w0))\n",
    "\n",
    "res_mvt <- fit_mvt(scale(data_frame), nu = \"MLE-diag-resampled\") #Estimate parameters of a multivariate Student's t\n",
    "nu <- res_mvt$nu \n"
   ]
  },
  {
   "cell_type": "code",
   "execution_count": 3,
   "id": "b2c1df34",
   "metadata": {
    "vscode": {
     "languageId": "r"
    }
   },
   "outputs": [
    {
     "name": "stdout",
     "output_type": "stream",
     "text": [
      "T_n 200NULL\n",
      "sigma_e 22026.47NULL\n",
      "alpha 4.539993e-07NULL\n",
      "beta 0.1NULL\n",
      "u_func 1.045417NULL\n",
      "u_func 10.83562NULL\n",
      "u_func 14.0258NULL\n",
      "u_func 13.91456NULL\n",
      "u_func 12.91242NULL\n",
      "u_func 11.5603NULL\n",
      "u_func 10.35834NULL\n",
      "u_func 10.26923NULL\n",
      "u_func 10.36311NULL\n",
      "u_func 10.42042NULL\n"
     ]
    },
    {
     "data": {
      "text/html": [
       "<style>\n",
       ".list-inline {list-style: none; margin:0; padding: 0}\n",
       ".list-inline>li {display: inline-block}\n",
       ".list-inline>li:not(:last-child)::after {content: \"\\00b7\"; padding: 0 .5ex}\n",
       "</style>\n",
       "<ol class=list-inline><li>40.1322154734771</li><li>16.062735760292</li><li>12.4452152978268</li><li>15.4297692458168</li><li>15.9249643595538</li><li>14.8655751357032</li><li>14.1753358520919</li><li>14.2149792061975</li><li>14.1503877651994</li><li>13.935504584075</li></ol>\n"
      ],
      "text/latex": [
       "\\begin{enumerate*}\n",
       "\\item 40.1322154734771\n",
       "\\item 16.062735760292\n",
       "\\item 12.4452152978268\n",
       "\\item 15.4297692458168\n",
       "\\item 15.9249643595538\n",
       "\\item 14.8655751357032\n",
       "\\item 14.1753358520919\n",
       "\\item 14.2149792061975\n",
       "\\item 14.1503877651994\n",
       "\\item 13.935504584075\n",
       "\\end{enumerate*}\n"
      ],
      "text/markdown": [
       "1. 40.1322154734771\n",
       "2. 16.062735760292\n",
       "3. 12.4452152978268\n",
       "4. 15.4297692458168\n",
       "5. 15.9249643595538\n",
       "6. 14.8655751357032\n",
       "7. 14.1753358520919\n",
       "8. 14.2149792061975\n",
       "9. 14.1503877651994\n",
       "10. 13.935504584075\n",
       "\n",
       "\n"
      ],
      "text/plain": [
       " [1] 40.13222 16.06274 12.44522 15.42977 15.92496 14.86558 14.17534 14.21498\n",
       " [9] 14.15039 13.93550"
      ]
     },
     "metadata": {},
     "output_type": "display_data"
    },
    {
     "name": "stdout",
     "output_type": "stream",
     "text": [
      "nu:  4.168752 \n"
     ]
    }
   ],
   "source": [
    "\n",
    "graphs_list <- learn_kcomp_heavytail_TV_graph_online(scale(data_frame),\n",
    "                                                    k = q, # k the number of components of the graph. (Number of Clusters)\n",
    "                                                    heavy_type = \"student\", # the statistical distribution of the data \"gaussian\" or \"student\".\n",
    "                                                    nu = nu, # the degrees of freedom of the Student-t distribution. Must be a real number greater than 2.\n",
    "                                                    sigma_e = exp(10), # hyperparameter that controls graph weight sparsity and time-consistency\n",
    "                                                    w_lagged = w_lagged,\n",
    "                                                    rho = 2, # ADMM hyperparameter.\n",
    "                                                    d = 1, # the nodes' degrees. Either a vector or a single value.\n",
    "                                                    w0 = w0, # initial value of the VAR coefficient\n",
    "                                                    update_eta = TRUE, # whether to update eta during the optimization.\n",
    "                                                    maxiter = 10,\n",
    "                                                    verbose = TRUE)\n",
    "graphs_list$lagrangian\n",
    "cat(\"nu: \",nu,\"\\n\")"
   ]
  },
  {
   "cell_type": "code",
   "execution_count": 10,
   "id": "7dff88e9",
   "metadata": {
    "vscode": {
     "languageId": "r"
    }
   },
   "outputs": [
    {
     "data": {
      "text/html": [
       "<style>\n",
       ".list-inline {list-style: none; margin:0; padding: 0}\n",
       ".list-inline>li {display: inline-block}\n",
       ".list-inline>li:not(:last-child)::after {content: \"\\00b7\"; padding: 0 .5ex}\n",
       "</style>\n",
       "<ol class=list-inline><li>40.9083039777889</li><li>17.7116172244793</li><li>12.6637591393921</li><li>15.9232660001775</li><li>16.6837084484437</li><li>15.7260407136354</li><li>14.8824034951724</li><li>14.8759078167895</li><li>14.8046974471603</li><li>14.6409163770935</li></ol>\n"
      ],
      "text/latex": [
       "\\begin{enumerate*}\n",
       "\\item 40.9083039777889\n",
       "\\item 17.7116172244793\n",
       "\\item 12.6637591393921\n",
       "\\item 15.9232660001775\n",
       "\\item 16.6837084484437\n",
       "\\item 15.7260407136354\n",
       "\\item 14.8824034951724\n",
       "\\item 14.8759078167895\n",
       "\\item 14.8046974471603\n",
       "\\item 14.6409163770935\n",
       "\\end{enumerate*}\n"
      ],
      "text/markdown": [
       "1. 40.9083039777889\n",
       "2. 17.7116172244793\n",
       "3. 12.6637591393921\n",
       "4. 15.9232660001775\n",
       "5. 16.6837084484437\n",
       "6. 15.7260407136354\n",
       "7. 14.8824034951724\n",
       "8. 14.8759078167895\n",
       "9. 14.8046974471603\n",
       "10. 14.6409163770935\n",
       "\n",
       "\n"
      ],
      "text/plain": [
       " [1] 40.90830 17.71162 12.66376 15.92327 16.68371 15.72604 14.88240 14.87591\n",
       " [9] 14.80470 14.64092"
      ]
     },
     "metadata": {},
     "output_type": "display_data"
    }
   ],
   "source": [
    "graphs_list$lagrangian"
   ]
  },
  {
   "cell_type": "code",
   "execution_count": 15,
   "id": "ff161eb7",
   "metadata": {
    "vscode": {
     "languageId": "r"
    }
   },
   "outputs": [
    {
     "data": {
      "text/html": [
       "<style>\n",
       ".list-inline {list-style: none; margin:0; padding: 0}\n",
       ".list-inline>li {display: inline-block}\n",
       ".list-inline>li:not(:last-child)::after {content: \"\\00b7\"; padding: 0 .5ex}\n",
       "</style>\n",
       "<ol class=list-inline><li>0.225982909516335</li><li>0.282865916204757</li><li>0.205732733342502</li><li>0.285418373751371</li><li>0.234207486601031</li><li>0.303112117288788</li><li>0.236697540023092</li><li>0.248098800234874</li><li>0.234827753453072</li><li>0.243056327131606</li></ol>\n"
      ],
      "text/latex": [
       "\\begin{enumerate*}\n",
       "\\item 0.225982909516335\n",
       "\\item 0.282865916204757\n",
       "\\item 0.205732733342502\n",
       "\\item 0.285418373751371\n",
       "\\item 0.234207486601031\n",
       "\\item 0.303112117288788\n",
       "\\item 0.236697540023092\n",
       "\\item 0.248098800234874\n",
       "\\item 0.234827753453072\n",
       "\\item 0.243056327131606\n",
       "\\end{enumerate*}\n"
      ],
      "text/markdown": [
       "1. 0.225982909516335\n",
       "2. 0.282865916204757\n",
       "3. 0.205732733342502\n",
       "4. 0.285418373751371\n",
       "5. 0.234207486601031\n",
       "6. 0.303112117288788\n",
       "7. 0.236697540023092\n",
       "8. 0.248098800234874\n",
       "9. 0.234827753453072\n",
       "10. 0.243056327131606\n",
       "\n",
       "\n"
      ],
      "text/plain": [
       " [1] 0.2259829 0.2828659 0.2057327 0.2854184 0.2342075 0.3031121 0.2366975\n",
       " [8] 0.2480988 0.2348278 0.2430563"
      ]
     },
     "metadata": {},
     "output_type": "display_data"
    }
   ],
   "source": [
    "graphs_list$weights"
   ]
  },
  {
   "cell_type": "code",
   "execution_count": null,
   "id": "83eb26af",
   "metadata": {
    "vscode": {
     "languageId": "r"
    }
   },
   "outputs": [],
   "source": [
    "w <- c(0.1170013, 0.1527746, 0.04855342, 0.1085774, 0.1243674, 0.1150374, 0.09536096, 0.07961204, 0.08441811, 0.07429729)\n",
    "L_n <- L(w)\n",
    "print(L_n)\n",
    "U <- eigen(L_n, symmetric = TRUE)$vectors\n",
    "L <- eigen(L_n, symmetric = TRUE)$values\n",
    "print(\"\")\n",
    "print(L)\n",
    "print(\"\")\n",
    "print(U)\n"
   ]
  },
  {
   "cell_type": "code",
   "execution_count": null,
   "id": "6ea40df5",
   "metadata": {
    "vscode": {
     "languageId": "r"
    }
   },
   "outputs": [],
   "source": [
    "# number of stocks\n",
    "r <- 100 \n",
    "stock_prices_orig <- readRDS(\"examples/stocks/sp500-data-2016-2020.rds\")\n",
    "stock_prices <- stock_prices_orig[1:1001,1:r]\n",
    "log_returns <- diff(log(stock_prices), na.pad = FALSE)\n",
    "write.csv(log_returns, file = \"log_returns.csv\", row.names = FALSE)"
   ]
  }
 ],
 "metadata": {
  "kernelspec": {
   "display_name": "R",
   "language": "R",
   "name": "ir"
  },
  "language_info": {
   "codemirror_mode": "r",
   "file_extension": ".r",
   "mimetype": "text/x-r-source",
   "name": "R",
   "pygments_lexer": "r",
   "version": "4.5.0"
  }
 },
 "nbformat": 4,
 "nbformat_minor": 5
}
