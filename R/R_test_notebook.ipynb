{
 "cells": [
  {
   "cell_type": "code",
   "execution_count": 2,
   "id": "8ad3722d",
   "metadata": {
    "vscode": {
     "languageId": "r"
    }
   },
   "outputs": [
    {
     "name": "stderr",
     "output_type": "stream",
     "text": [
      "\n",
      "Attaching package: 'spectralGraphTopology'\n",
      "\n",
      "\n",
      "The following object is masked from 'package:stats':\n",
      "\n",
      "    D\n",
      "\n",
      "\n",
      "Warning message:\n",
      "\"package 'assertthat' was built under R version 4.5.1\"\n"
     ]
    }
   ],
   "source": [
    "library(spectralGraphTopology)\n",
    "library(assertthat)\n",
    "options(warn = -1)\n"
   ]
  },
  {
   "cell_type": "code",
   "execution_count": 91,
   "id": "cdf48d63",
   "metadata": {
    "vscode": {
     "languageId": "r"
    }
   },
   "outputs": [
    {
     "data": {
      "text/html": [
       "<table class=\"dataframe\">\n",
       "<caption>A Time Series: 6 × 4</caption>\n",
       "<tbody>\n",
       "\t<tr><th scope=row>Jan 2020</th><td> 0.6052612</td><td> 1.9354184</td><td> 0.3949486</td><td>-1.0786222</td></tr>\n",
       "\t<tr><th scope=row>Feb 2020</th><td>-3.4464044</td><td> 1.6086381</td><td>-2.7426028</td><td> 0.2372721</td></tr>\n",
       "\t<tr><th scope=row>Mar 2020</th><td>-2.4463587</td><td>-0.3511798</td><td>-0.4878841</td><td> 3.5643112</td></tr>\n",
       "\t<tr><th scope=row>Apr 2020</th><td>-0.6468191</td><td>-0.7836053</td><td>-0.9615872</td><td> 1.1145096</td></tr>\n",
       "\t<tr><th scope=row>May 2020</th><td>-4.4504753</td><td>-0.5788189</td><td>-3.2866664</td><td> 1.3011199</td></tr>\n",
       "\t<tr><th scope=row>Jun 2020</th><td>-2.9747249</td><td> 1.0322598</td><td>-1.5268351</td><td> 1.7996007</td></tr>\n",
       "</tbody>\n",
       "</table>\n"
      ],
      "text/latex": [
       "A Time Series: 6 × 4\n",
       "\\begin{tabular}{r|llll}\n",
       "\tJan 2020 &  0.6052612 &  1.9354184 &  0.3949486 & -1.0786222\\\\\n",
       "\tFeb 2020 & -3.4464044 &  1.6086381 & -2.7426028 &  0.2372721\\\\\n",
       "\tMar 2020 & -2.4463587 & -0.3511798 & -0.4878841 &  3.5643112\\\\\n",
       "\tApr 2020 & -0.6468191 & -0.7836053 & -0.9615872 &  1.1145096\\\\\n",
       "\tMay 2020 & -4.4504753 & -0.5788189 & -3.2866664 &  1.3011199\\\\\n",
       "\tJun 2020 & -2.9747249 &  1.0322598 & -1.5268351 &  1.7996007\\\\\n",
       "\\end{tabular}\n"
      ],
      "text/markdown": [
       "\n",
       "A Time Series: 6 × 4\n",
       "\n",
       "| Jan 2020 |  0.6052612 |  1.9354184 |  0.3949486 | -1.0786222 |\n",
       "| Feb 2020 | -3.4464044 |  1.6086381 | -2.7426028 |  0.2372721 |\n",
       "| Mar 2020 | -2.4463587 | -0.3511798 | -0.4878841 |  3.5643112 |\n",
       "| Apr 2020 | -0.6468191 | -0.7836053 | -0.9615872 |  1.1145096 |\n",
       "| May 2020 | -4.4504753 | -0.5788189 | -3.2866664 |  1.3011199 |\n",
       "| Jun 2020 | -2.9747249 |  1.0322598 | -1.5268351 |  1.7996007 |\n",
       "\n"
      ],
      "text/plain": [
       "         [,1]       [,2]       [,3]       [,4]      \n",
       "Jan 2020  0.6052612  1.9354184  0.3949486 -1.0786222\n",
       "Feb 2020 -3.4464044  1.6086381 -2.7426028  0.2372721\n",
       "Mar 2020 -2.4463587 -0.3511798 -0.4878841  3.5643112\n",
       "Apr 2020 -0.6468191 -0.7836053 -0.9615872  1.1145096\n",
       "May 2020 -4.4504753 -0.5788189 -3.2866664  1.3011199\n",
       "Jun 2020 -2.9747249  1.0322598 -1.5268351  1.7996007"
      ]
     },
     "metadata": {},
     "output_type": "display_data"
    }
   ],
   "source": [
    "# Load library for multivariate normal distribution\n",
    "library(MASS)\n",
    "\n",
    "# Set parameters\n",
    "set.seed(123)       # For reproducibility\n",
    "n <- 1000            # Number of time points\n",
    "p <- 4              # Number of variables\n",
    "\n",
    "mu <- runif(p, min = -1, max = 1) # random means between -1 and 1\n",
    "\n",
    "A <- matrix(rnorm(p^2), nrow = p)\n",
    "SigmaMat <- crossprod(A)  # t(A) %*% A, guarantees positive definite\n",
    "\n",
    "# Covariance matrix\n",
    "Sigma <- matrix(SigmaMat, nrow = p, byrow = TRUE)\n",
    "\n",
    "# Generate multivariate normal data\n",
    "data <- mvrnorm(n = n, mu = mu, Sigma = Sigma)\n",
    "\n",
    "# Convert to time series object\n",
    "ts_data <- ts(data, start = c(2020, 1), frequency = 12)\n",
    "\n",
    "# View first few rows\n",
    "head(ts_data)"
   ]
  },
  {
   "cell_type": "code",
   "execution_count": 92,
   "id": "855491f1",
   "metadata": {
    "vscode": {
     "languageId": "r"
    }
   },
   "outputs": [
    {
     "name": "stdout",
     "output_type": "stream",
     "text": [
      "          [,1]      [,2]       [,3]       [,4]\n",
      "[1,]  31.08849 11.010645 -20.763591  25.469668\n",
      "[2,]  11.01065  5.269683  -7.224546   9.717319\n",
      "[3,] -20.76359 -7.224546  14.880659 -16.971989\n",
      "[4,]  25.46967  9.717319 -16.971989  22.221386\n",
      "[1] \"\"\n"
     ]
    },
    {
     "name": "stdout",
     "output_type": "stream",
     "text": [
      "[1]  0.000000 20.763591  0.000000  7.224546  0.000000 16.971989\n"
     ]
    }
   ],
   "source": [
    "\n",
    "\n",
    "X <- scale(as.matrix(ts_data))\n",
    "  \n",
    "# number of nodes\n",
    "p <- ncol(X)\n",
    "  \n",
    "# number of observations\n",
    "T_n <- nrow(X)\n",
    "\n",
    "w0 <- \"naive\"\n",
    "Sinv <- MASS::ginv(cor(X))\n",
    "w <- spectralGraphTopology:::w_init(w0, Sinv)\n",
    "\n",
    "w0 <- Linv(Sinv)\n",
    "w0[w0 < 0] <- 0\n",
    "\n",
    "\n",
    "print(Sinv)\n",
    "\n",
    "print(\"\")\n",
    "print(w)\n",
    "#print(w0)"
   ]
  },
  {
   "cell_type": "code",
   "execution_count": 94,
   "id": "e994ddf9",
   "metadata": {
    "vscode": {
     "languageId": "r"
    }
   },
   "outputs": [
    {
     "name": "stdout",
     "output_type": "stream",
     "text": [
      "[1] \" \"\n",
      "          [,1]      [,2] [,3]      [,4]\n",
      "[1,] 0.0000000 0.0000000    1 0.0000000\n",
      "[2,] 0.0000000 0.0000000    1 0.0000000\n",
      "[3,] 0.4618223 0.1606879    0 0.3774898\n",
      "[4,] 0.0000000 0.0000000    1 0.0000000\n"
     ]
    }
   ],
   "source": [
    "A0 <- A(w0)\n",
    "A0 <- A0 / rowSums(A0)\n",
    "print(\" \")\n",
    "print(A0)\n"
   ]
  },
  {
   "cell_type": "code",
   "execution_count": 95,
   "id": "1e47ceb4",
   "metadata": {
    "vscode": {
     "languageId": "r"
    }
   },
   "outputs": [
    {
     "name": "stdout",
     "output_type": "stream",
     "text": [
      "[1] \" \"\n",
      "[1] \"Custom Function \"\n",
      "[1] 0.0000000 1.0000000 0.0000000 1.0000000 0.0000000 0.3774898\n",
      "[1] \" \"\n",
      "[1] \"Spectral Graph Topology \"\n",
      "[1] 0.0000000 1.0000000 0.0000000 1.0000000 0.0000000 0.3774898\n"
     ]
    }
   ],
   "source": [
    "Ainv <- function(M) {\n",
    "  N <- ncol(M)\n",
    "  w <- c()\n",
    "  for (i in 1:(N-1)) {\n",
    "    for (j in (i+1):N) {\n",
    "      w <- c(w, M[i, j])\n",
    "    }\n",
    "  }\n",
    "  return(w)\n",
    "}\n",
    "\n",
    "w <- Ainv(A0)\n",
    "print(\" \")\n",
    "print(\"Custom Function \")\n",
    "print(w)\n",
    "\n",
    "w <- spectralGraphTopology:::Ainv(A0)\n",
    "print(\" \")\n",
    "print(\"Spectral Graph Topology \")\n",
    "print(w)"
   ]
  },
  {
   "cell_type": "code",
   "execution_count": 96,
   "id": "edf49256",
   "metadata": {
    "vscode": {
     "languageId": "r"
    }
   },
   "outputs": [
    {
     "name": "stdout",
     "output_type": "stream",
     "text": [
      "[1] \" \"\n",
      "[1] \"Custom Function \"\n",
      "[1] -11.010645  20.763591 -25.469668   7.224546  -9.717319  16.971989\n",
      "[1] \" \"\n",
      "[1] \"Spectral Graph Topology \"\n",
      "[1] -11.010645  20.763591 -25.469668   7.224546  -9.717319  16.971989\n"
     ]
    }
   ],
   "source": [
    "Linv <- function(M) {\n",
    "  N <- ncol(M)\n",
    "  w <- c()\n",
    "  for (i in 1:(N-1)) {\n",
    "    for (j in (i+1):N) {\n",
    "      w <- c(w, -M[i, j])  # negative of off-diagonal\n",
    "    }\n",
    "  }\n",
    "  return(w)\n",
    "}\n",
    "\n",
    "\n",
    "w <- Linv(Sinv)\n",
    "print(\" \")\n",
    "print(\"Custom Function \")\n",
    "print(w)\n",
    "\n",
    "w <- spectralGraphTopology:::Linv(Sinv)\n",
    "print(\" \")\n",
    "print(\"Spectral Graph Topology \")\n",
    "print(w)"
   ]
  },
  {
   "cell_type": "code",
   "execution_count": 99,
   "id": "439cacbd",
   "metadata": {
    "vscode": {
     "languageId": "r"
    }
   },
   "outputs": [
    {
     "name": "stdout",
     "output_type": "stream",
     "text": [
      "[1] \" \"\n",
      "[1] \"Spectral Graph Topology \"\n",
      "          [,1]       [,2]       [,3]       [,4]\n",
      "[1,] -15.71672  11.010645 -20.763591  25.469668\n",
      "[2,]  11.01065 -13.503418  -7.224546   9.717319\n",
      "[3,] -20.76359  -7.224546  44.960126 -16.971989\n",
      "[4,]  25.46967   9.717319 -16.971989 -18.214997\n"
     ]
    }
   ],
   "source": [
    "# Build Laplacian-like matrix L from edge-weight vector w\n",
    "L <- function(w) {\n",
    "  k <- length(w)\n",
    "  n <- as.integer(0.5 * (1 + sqrt(1 + 8 * k)))  # solve n(n-1)/2 = k\n",
    "  Lw <- matrix(0, n, n)\n",
    "\n",
    "  pos <- 1\n",
    "  # fill the UPPER triangle row-wise with -w\n",
    "  for (i in 1:(n - 1)) {\n",
    "    j <- n - i                       # how many entries to place in row i\n",
    "    Lw[i, (i + 1):n] <- -w[pos:(pos + j - 1)]\n",
    "    pos <- pos + j\n",
    "  }\n",
    "\n",
    "  # set diagonal to minus column sums of (Lw + t(Lw))\n",
    "  LwColSum <- colSums(Lw + t(Lw))\n",
    "  diag(Lw) <- diag(Lw) - LwColSum\n",
    "\n",
    "  # return symmetric matrix using the upper triangle as source\n",
    "  Lw[lower.tri(Lw)] <- t(Lw)[lower.tri(Lw)]\n",
    "  return(Lw)\n",
    "}\n",
    "\n",
    "\n",
    "Lw <- spectralGraphTopology:::L(w)\n",
    "print(\" \")\n",
    "print(\"Spectral Graph Topology \")\n",
    "print(Lw)"
   ]
  },
  {
   "cell_type": "code",
   "execution_count": 59,
   "id": "b9ae954a",
   "metadata": {
    "vscode": {
     "languageId": "r"
    }
   },
   "outputs": [
    {
     "name": "stdout",
     "output_type": "stream",
     "text": [
      "           [,1]          [,2]       [,3]\n",
      "[1,]  0.4082483  7.071068e-01 -0.5773503\n",
      "[2,]  0.4082483 -7.071068e-01 -0.5773503\n",
      "[3,] -0.8164966 -8.881784e-16 -0.5773503\n",
      "eigen() decomposition\n",
      "$values\n",
      "[1] 3.000000e+00 1.000000e+00 2.664535e-15\n",
      "\n",
      "$vectors\n",
      "           [,1]          [,2]       [,3]\n",
      "[1,]  0.4082483  7.071068e-01 -0.5773503\n",
      "[2,]  0.4082483 -7.071068e-01 -0.5773503\n",
      "[3,] -0.8164966 -8.881784e-16 -0.5773503\n",
      "\n"
     ]
    }
   ],
   "source": [
    "k = 3\n",
    "Lw <- L(w)\n",
    "Aw <- A(w)\n",
    "U <- eigen(Lw, symmetric = TRUE)$vectors[, (p - k + 1):p]\n",
    "print(U)\n",
    "\n",
    "U <- eigen(Lw, symmetric = TRUE)\n",
    "print(U)"
   ]
  },
  {
   "cell_type": "code",
   "execution_count": null,
   "id": "7857d9f8",
   "metadata": {
    "vscode": {
     "languageId": "r"
    }
   },
   "outputs": [
    {
     "data": {
      "text/html": [
       "<style>\n",
       ".list-inline {list-style: none; margin:0; padding: 0}\n",
       ".list-inline>li {display: inline-block}\n",
       ".list-inline>li:not(:last-child)::after {content: \"\\00b7\"; padding: 0 .5ex}\n",
       "</style>\n",
       "<ol class=list-inline><li>1</li><li>1</li><li>1</li></ol>\n"
      ],
      "text/latex": [
       "\\begin{enumerate*}\n",
       "\\item 1\n",
       "\\item 1\n",
       "\\item 1\n",
       "\\end{enumerate*}\n"
      ],
      "text/markdown": [
       "1. 1\n",
       "2. 1\n",
       "3. 1\n",
       "\n",
       "\n"
      ],
      "text/plain": [
       "[1] 1 1 1"
      ]
     },
     "metadata": {},
     "output_type": "display_data"
    },
    {
     "ename": "",
     "evalue": "",
     "output_type": "error",
     "traceback": [
      "\u001b[1;31mThe Kernel crashed while executing code in the current cell or a previous cell. \n",
      "\u001b[1;31mPlease review the code in the cell(s) to identify a possible cause of the failure. \n",
      "\u001b[1;31mClick <a href='https://aka.ms/vscodeJupyterKernelCrash'>here</a> for more info. \n",
      "\u001b[1;31mView Jupyter <a href='command:jupyter.viewOutput'>log</a> for further details."
     ]
    }
   ],
   "source": [
    "a <- rep(1, p*(p-1)/2)\n",
    "a"
   ]
  }
 ],
 "metadata": {
  "kernelspec": {
   "display_name": "R",
   "language": "R",
   "name": "ir"
  },
  "language_info": {
   "codemirror_mode": "r",
   "file_extension": ".r",
   "mimetype": "text/x-r-source",
   "name": "R",
   "pygments_lexer": "r",
   "version": "4.5.0"
  }
 },
 "nbformat": 4,
 "nbformat_minor": 5
}
