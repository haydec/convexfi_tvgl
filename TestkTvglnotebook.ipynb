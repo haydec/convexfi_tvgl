{
 "cells": [
  {
   "cell_type": "code",
   "execution_count": 1,
   "id": "eee223ec",
   "metadata": {},
   "outputs": [],
   "source": [
    "import pandas as pd\n",
    "import numpy as np\n",
    "from sklearn.preprocessing import scale\n",
    "from ktvgl_functions import init_parameters, fit_multivariate_t, L_update, w_update, u_update, a_update, V_update, dual_update, residual_Update, update_parameters, updateADMMpenalties"
   ]
  },
  {
   "cell_type": "code",
   "execution_count": 2,
   "id": "62fd9a6e",
   "metadata": {},
   "outputs": [],
   "source": [
    "log_rw_returns = pd.read_csv(\"log_rw_returns.csv\")"
   ]
  },
  {
   "cell_type": "code",
   "execution_count": 21,
   "id": "5229994f",
   "metadata": {},
   "outputs": [
    {
     "name": "stdout",
     "output_type": "stream",
     "text": [
      "nu 96.80952131922479\n"
     ]
    },
    {
     "name": "stderr",
     "output_type": "stream",
     "text": [
      "c:\\Users\\cilli\\Documents\\Github\\k-tvgraph\\ktvgl_functions.py:436: RuntimeWarning: divide by zero encountered in divide\n",
      "  f_temp = wUpdate - u_nUpdate - mu_vec/rho\n",
      "c:\\Users\\cilli\\Documents\\Github\\k-tvgraph\\ktvgl_functions.py:439: RuntimeWarning: divide by zero encountered in divide\n",
      "  thr = gamma/(rho* w_lagged[idx]**2)\n",
      "c:\\Users\\cilli\\Documents\\Github\\k-tvgraph\\ktvgl_functions.py:403: RuntimeWarning: invalid value encountered in multiply\n",
      "  temp = temp*(temp>0)\n",
      "c:\\Users\\cilli\\Documents\\Github\\k-tvgraph\\ktvgl_functions.py:440: RuntimeWarning: invalid value encountered in cast\n",
      "  a[idx] = softThresh(f_temp[idx]/w_lagged[idx], thr)\n"
     ]
    },
    {
     "data": {
      "text/plain": [
       "array([[ 1.25745578, -0.33372729, -0.40281017, -0.20402627, -0.31689205],\n",
       "       [-0.33372729,  1.30387985, -0.34815002, -0.32991074, -0.2920918 ],\n",
       "       [-0.40281017, -0.34815002,  1.28438037, -0.26297944, -0.27044074],\n",
       "       [-0.20402627, -0.32991074, -0.26297944,  1.04995472, -0.25303826],\n",
       "       [-0.31689205, -0.2920918 , -0.27044074, -0.25303826,  1.13246285]])"
      ]
     },
     "execution_count": 21,
     "metadata": {},
     "output_type": "execute_result"
    }
   ],
   "source": [
    "winLen = 200\n",
    "Xraw = log_rw_returns[0:winLen]\n",
    "\n",
    "maxIter = 1\n",
    "update_rho = False\n",
    "update_eta = True\n",
    "early_stopping = False\n",
    "\n",
    "\n",
    "X = scale(Xraw.to_numpy())\n",
    "\n",
    "# number of nodes\n",
    "p = X.shape[1] # n_features\n",
    "k = 1 # n_clusters\n",
    "\n",
    "# number of observations\n",
    "T_n = X.shape[0]      # n_observations in Frame\n",
    "sigma_e = np.exp(0.1) # Student T Distribution Standard Dev. \n",
    "alpha = 2/(T_n*sigma_e)\n",
    "beta = 2*np.log(sigma_e)/T_n\n",
    "\n",
    "\n",
    "rho = 2    # ADMM hyperparameter. \n",
    "gamma = 10 # hyperparameter that controls the sparsity of VAR coefficients\n",
    "eta = 1e-8 # hyperparameter that controls the regularization to obtain a k-component graph\n",
    "#tau = 2 # Not used\n",
    "#mu = 2 # Not used\n",
    "\n",
    "\n",
    "# BOOK KEEPING\n",
    "# residual vectors\n",
    "primal_lap_residual = np.array([], dtype=float)\n",
    "primal_deg_residual = np.array([], dtype=float)\n",
    "dual_residual       = np.array([], dtype=float)\n",
    "\n",
    "lagrangian = np.array([], dtype=float)\n",
    "rho_seq = np.array([], dtype=float)\n",
    "eta_seq = np.array([], dtype=float)\n",
    "\n",
    "elapsed_time = np.array([], dtype=float)\n",
    "\n",
    "\n",
    "mu, Sigma, nu, history = fit_multivariate_t( X, nu_init=30.0, max_iter=200, tol=1e-6, fix_nu=None, jitter=1e-6, verbose=False)\n",
    "w, Aw, a, w_lagged, L_n, Phi_n, u_n, mu_vec, d, z_n, V = init_parameters(X,k)\n",
    "\n",
    "\n",
    "print(\"nu\",nu)\n",
    "\n",
    "for iter in range(0,maxIter):\n",
    "\n",
    "\n",
    "    L_nUpdate = L_update(L_n, Phi_n, rho, k)\n",
    "    wUpdate = w_update(X, w, w_lagged,a,  nu, L_n, L_nUpdate,  u_n, z_n, Phi_n, V, rho, d, eta, beta)\n",
    "    u_nUpdate = u_update(wUpdate,a,w_lagged,mu_vec,rho,alpha)\n",
    "    # x_update()\n",
    "    aUpdate = a_update( a, wUpdate, u_nUpdate, mu_vec, gamma, rho, w_lagged)\n",
    "    vUpdate = V_update(wUpdate,k)\n",
    "    Phi_nUpdate, mu_vecUpdate, z_nUpdate, Phi_n_res, u_n_res, z_n_res = dual_update(rho, wUpdate, L_nUpdate, Phi_n, aUpdate, w_lagged, mu_vec, u_nUpdate, d, z_n)\n",
    "    primal_lap_residual, primal_deg_residual, dual_residual = residual_Update(rho, L_n, L_nUpdate, Phi_n_res, z_n_res, primal_lap_residual, primal_deg_residual, dual_residual)\n",
    "    rho, eta, rho_seq, eta_seq, has_converged = updateADMMpenalties( update_rho, rho, rho_seq,L_n, k, wUpdate, update_eta, eta, eta_seq, early_stopping)\n",
    "    L_n, w, u_n, a, V, Phi_n, mu_vec, z_n = update_parameters( L_nUpdate, wUpdate, u_nUpdate, aUpdate, vUpdate, Phi_nUpdate, mu_vecUpdate, z_nUpdate)\n",
    "\n",
    "    if has_converged:\n",
    "        break\n",
    "\n",
    "\n",
    "\n",
    "\n",
    "L_n"
   ]
  },
  {
   "cell_type": "code",
   "execution_count": null,
   "id": "3ef468df",
   "metadata": {},
   "outputs": [
    {
     "data": {
      "text/plain": [
       "array([[ 1.25745578, -0.33372729, -0.40281017, -0.20402627, -0.31689205],\n",
       "       [-0.33372729,  1.30387985, -0.34815002, -0.32991074, -0.2920918 ],\n",
       "       [-0.40281017, -0.34815002,  1.28438037, -0.26297944, -0.27044074],\n",
       "       [-0.20402627, -0.32991074, -0.26297944,  1.04995472, -0.25303826],\n",
       "       [-0.31689205, -0.2920918 , -0.27044074, -0.25303826,  1.13246285]])"
      ]
     },
     "execution_count": 16,
     "metadata": {},
     "output_type": "execute_result"
    }
   ],
   "source": []
  }
 ],
 "metadata": {
  "kernelspec": {
   "display_name": "ml_venv (3.11.7)",
   "language": "python",
   "name": "python3"
  },
  "language_info": {
   "codemirror_mode": {
    "name": "ipython",
    "version": 3
   },
   "file_extension": ".py",
   "mimetype": "text/x-python",
   "name": "python",
   "nbconvert_exporter": "python",
   "pygments_lexer": "ipython3",
   "version": "3.11.7"
  }
 },
 "nbformat": 4,
 "nbformat_minor": 5
}
