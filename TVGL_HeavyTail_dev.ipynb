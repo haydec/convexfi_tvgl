{
 "cells": [
  {
   "cell_type": "code",
   "execution_count": 41,
   "id": "6ef89497",
   "metadata": {},
   "outputs": [],
   "source": [
    "import numpy as np\n",
    "import matplotlib.pyplot as plt\n",
    "import numpy as np\n",
    "import pandas as pd\n",
    "import pyreadr\n",
    "from sklearn.preprocessing import scale\n",
    "from scipy.stats import t\n",
    "\n",
    "from numpy.linalg import slogdet\n",
    "from scipy.special import digamma, polygamma, gammaln"
   ]
  },
  {
   "cell_type": "code",
   "execution_count": 66,
   "id": "63709b8c",
   "metadata": {},
   "outputs": [],
   "source": [
    "rw_price = pd.read_csv(\"rw_price.csv\")\n",
    "rw_returns = pd.read_csv(\"rw_returns.csv\")\n",
    "log_rw_returns = pd.read_csv(\"log_rw_returns.csv\")"
   ]
  },
  {
   "cell_type": "code",
   "execution_count": 67,
   "id": "ade654f4",
   "metadata": {},
   "outputs": [
    {
     "name": "stdout",
     "output_type": "stream",
     "text": [
      "999\n"
     ]
    },
    {
     "data": {
      "text/plain": [
       "array([[1.        , 0.34982739, 0.32699292, 0.27549521, 0.34886486],\n",
       "       [0.34982739, 1.        , 0.37785361, 0.33174046, 0.32484628],\n",
       "       [0.32699292, 0.37785361, 1.        , 0.33200448, 0.34886946],\n",
       "       [0.27549521, 0.33174046, 0.33200448, 1.        , 0.32947489],\n",
       "       [0.34886486, 0.32484628, 0.34886946, 0.32947489, 1.        ]])"
      ]
     },
     "execution_count": 67,
     "metadata": {},
     "output_type": "execute_result"
    }
   ],
   "source": [
    "winLen = 200\n",
    "Nday = len(log_rw_returns)\n",
    "print(Nday)\n",
    "\n",
    "S_cov = np.corrcoef(scale(log_rw_returns).T)\n",
    "S_cov"
   ]
  },
  {
   "cell_type": "markdown",
   "id": "5612a128",
   "metadata": {},
   "source": [
    "### Checking Graph operators from \n",
    "A Unified Framework for Structured Graph Learning via Spectral Constraints\n",
    "\n",
    "https://jmlr.org/papers/volume21/19-276/19-276.pdf"
   ]
  },
  {
   "cell_type": "code",
   "execution_count": 42,
   "id": "2c1d452a",
   "metadata": {},
   "outputs": [],
   "source": [
    "def w_from_L(M: np.ndarray) -> np.ndarray:\n",
    "    M = np.asarray(M)\n",
    "    if M.ndim != 2 or M.shape[0] != M.shape[1]:\n",
    "        raise ValueError(\"M must be a square matrix\")\n",
    "\n",
    "    n = M.shape[0]\n",
    "    w = np.empty(n * (n - 1) // 2, dtype=M.dtype)\n",
    "    k = 0\n",
    "    for i in range(n - 1):            # i = 0 .. n-2\n",
    "        for j in range(i + 1, n):     # j = i+1 .. n-1 (strict upper)\n",
    "            w[k] = -M[i, j]\n",
    "            k += 1\n",
    "    return w\n",
    "\n",
    "def L_from_w(w: np.ndarray) -> np.ndarray:\n",
    "    w = np.asarray(w).ravel()\n",
    "    k = w.size\n",
    "    n = int((1 + np.sqrt(1 + 8 * k)) / 2)\n",
    "    if n * (n - 1) // 2 != k:\n",
    "        raise ValueError(\"Invalid length of w: must be n(n-1)/2 for some integer n.\")\n",
    "\n",
    "    Lw = np.zeros((n, n), dtype=float)\n",
    "\n",
    "    # Fill the strict upper triangle row by row, backwards like in C++\n",
    "    for i in range(n - 2, -1, -1):\n",
    "        j = n - i - 1\n",
    "        # Equivalent of Eigen: Lw.row(i).tail(j) = -w.head(k).tail(j)\n",
    "        Lw[i, -j:] = -w[:k][-j:]\n",
    "        k -= j\n",
    "\n",
    "    # Make symmetric: copy upper triangle into lower\n",
    "    Lw = Lw + Lw.T\n",
    "\n",
    "    # Adjust diagonal: subtract column sums\n",
    "    colsum = Lw.sum(axis=0)\n",
    "    np.fill_diagonal(Lw, Lw.diagonal() - colsum)\n",
    "\n",
    "    return Lw\n",
    "\n",
    "def W_init(M):\n",
    "    W0 = w_from_L(M)\n",
    "    W0[W0 < 0] = 0\n",
    "    return W0\n",
    "\n",
    "def L_star(Y):\n",
    "\n",
    "    Y = np.asarray(Y)\n",
    "    \n",
    "    if Y.ndim != 2 or Y.shape[0] != Y.shape[1]:\n",
    "        raise ValueError(\"Y must be a square matrix.\")\n",
    "    p = Y.shape[0]\n",
    "    Lstar = np.zeros(int(p*(p-1)/2))\n",
    "\n",
    "    for i in range(1,p+1):\n",
    "\n",
    "        for j in range(1,p+1):\n",
    "           \n",
    "            if (i > j):\n",
    "                k = int( (i - j) + ((j - 1)/2)*(2*p - j) ) \n",
    "                Lstar[k-1] = Y[i-1,i-1] - Y[i-1, j-1] - Y[ j-1, i-1] + Y[ j-1, j-1]\n",
    "\n",
    "\n",
    "    return Lstar\n",
    "\n",
    "def A_from_w(w):\n",
    "\n",
    "    w = np.asarray(w, dtype=float).ravel()\n",
    "    k = w.size\n",
    "\n",
    "    # Infer n from k = n*(n-1)/2\n",
    "    n_float = (1 + np.sqrt(1 + 8*k)) / 2\n",
    "    n = int(n_float)\n",
    "    if n*(n-1)//2 != k:\n",
    "        raise ValueError(f\"len(w)={k} is not a triangular number; expected k=n*(n-1)/2.\")\n",
    "\n",
    "    A = np.zeros((n, n), dtype=float)\n",
    "\n",
    "    # Indices of strict upper triangle in row-major order\n",
    "    iu = np.triu_indices(n, k=1)\n",
    "    A[iu] = w            # fill upper triangle\n",
    "    A[(iu[1], iu[0])] = w  # mirror to lower triangle\n",
    "    return A\n",
    "\n",
    "def w_from_A(M):\n",
    "    \n",
    "    N = M.shape[1]\n",
    "    k = N * (N - 1) // 2\n",
    "    w = np.zeros(k)\n",
    "    l = 0\n",
    "\n",
    "    for i in range(N - 1):\n",
    "        for j in range(i + 1, N):\n",
    "            w[l] = M[i, j]\n",
    "            l += 1\n",
    "    return w\n",
    "\n",
    "\n",
    "def A_star(Y):\n",
    "\n",
    "    Y = np.asarray(Y)\n",
    "    \n",
    "    if Y.ndim != 2 or Y.shape[0] != Y.shape[1]:\n",
    "        raise ValueError(\"Y must be a square matrix.\")\n",
    "    p = Y.shape[0]\n",
    "    Astar = np.zeros(int(p*(p-1)/2))\n",
    "\n",
    "    for i in range(1,p+1):\n",
    "\n",
    "        for j in range(1,p+1):\n",
    "           \n",
    "            if (i > j):\n",
    "                k = int( (i - j) + ((j - 1)/2)*(2*p - j) ) \n",
    "                Astar[k-1] = Y[i-1, j-1] + Y[ j-1, i-1]\n",
    "\n",
    "\n",
    "    return Astar\n",
    "\n",
    "def D_star(w: np.ndarray) -> np.ndarray:\n",
    "    w = np.asarray(w).ravel()\n",
    "    dStar = L_star(np.diag(w))\n",
    "    return  dStar\n",
    "\n",
    "def D_from_w(w: np.ndarray) -> np.ndarray:\n",
    "    \"\"\"\n",
    "    Return the column-wise sums of A(w).\n",
    "    Equivalent to Eigen: A(w).colwise().sum()\n",
    "    \"\"\"\n",
    "    M = A_from_w(w)               # shape (m, p)\n",
    "    return M.sum(axis=0)   # shape (p,)"
   ]
  },
  {
   "cell_type": "code",
   "execution_count": 43,
   "id": "69aad991",
   "metadata": {},
   "outputs": [
    {
     "name": "stdout",
     "output_type": "stream",
     "text": [
      "S_cov\n",
      "[[1.         0.34982739 0.32699292 0.27549521 0.34886486]\n",
      " [0.34982739 1.         0.37785361 0.33174046 0.32484628]\n",
      " [0.32699292 0.37785361 1.         0.33200448 0.34886946]\n",
      " [0.27549521 0.33174046 0.33200448 1.         0.32947489]\n",
      " [0.34886486 0.32484628 0.34886946 0.32947489 1.        ]]\n",
      "S_prec\n",
      "[[ 1.27263721 -0.24947558 -0.19281752 -0.11937063 -0.25633942]\n",
      " [-0.24947558  1.32359962 -0.28620275 -0.21902718 -0.17092178]\n",
      " [-0.19281752 -0.28620275  1.32304704 -0.21528053 -0.23040203]\n",
      " [-0.11937063 -0.21902718 -0.21528053  1.25090233 -0.22424173]\n",
      " [-0.25633942 -0.17092178 -0.23040203 -0.22424173  1.29921337]]\n"
     ]
    }
   ],
   "source": [
    "log_rw_returns = pd.read_csv(\"log_rw_returns.csv\")\n",
    "\n",
    "S_cov = np.corrcoef(scale(log_rw_returns).T)\n",
    "print(\"S_cov\")\n",
    "print(S_cov)\n",
    "\n",
    "S_prec = np.linalg.pinv(S_cov)\n",
    "print(\"S_prec\")\n",
    "print(S_prec)"
   ]
  },
  {
   "cell_type": "code",
   "execution_count": 44,
   "id": "6050ed03",
   "metadata": {},
   "outputs": [
    {
     "name": "stdout",
     "output_type": "stream",
     "text": [
      "w from L\n",
      "[0.24947558 0.19281752 0.11937063 0.25633942 0.28620275 0.21902718\n",
      " 0.17092178 0.21528053 0.23040203 0.22424173]\n",
      "w\n",
      "[0.24947558 0.19281752 0.11937063 0.25633942 0.28620275 0.21902718\n",
      " 0.17092178 0.21528053 0.23040203 0.22424173]\n",
      "Lw from w\n",
      "[[ 0.81800315 -0.24947558 -0.19281752 -0.11937063 -0.25633942]\n",
      " [-0.24947558  0.9256273  -0.28620275 -0.21902718 -0.17092178]\n",
      " [-0.19281752 -0.28620275  0.92470283 -0.21528053 -0.23040203]\n",
      " [-0.11937063 -0.21902718 -0.21528053  0.77792007 -0.22424173]\n",
      " [-0.25633942 -0.17092178 -0.23040203 -0.22424173  0.88190495]]\n",
      "Lstar from Lw\n",
      "[2.24258162 2.12834103 1.83466448 2.21258694 2.42273564 2.14160172\n",
      " 2.14937582 2.13318397 2.26741184 2.10830848]\n",
      "Aw from w\n",
      "[[0.         0.24947558 0.19281752 0.11937063 0.25633942]\n",
      " [0.24947558 0.         0.28620275 0.21902718 0.17092178]\n",
      " [0.19281752 0.28620275 0.         0.21528053 0.23040203]\n",
      " [0.11937063 0.21902718 0.21528053 0.         0.22424173]\n",
      " [0.25633942 0.17092178 0.23040203 0.22424173 0.        ]]\n",
      "w from A\n",
      "[0.24947558 0.19281752 0.11937063 0.25633942 0.28620275 0.21902718\n",
      " 0.17092178 0.21528053 0.23040203 0.22424173]\n",
      "Astar from Aw\n",
      "[0.49895117 0.38563504 0.23874126 0.51267883 0.57240551 0.43805436\n",
      " 0.34184357 0.43056106 0.46080405 0.44848345]\n",
      "Dstar from w\n",
      "[0.4422931  0.36884621 0.505815   0.53567834 0.46850276 0.42039737\n",
      " 0.46475611 0.47987761 0.47371731 0.31218815 0.44915694 0.47902028\n",
      " 0.4118447  0.36373931 0.40809805 0.42321955 0.41705925 0.37571005\n",
      " 0.40557339 0.33839781 0.29029242 0.33465116 0.34977266 0.34361236\n",
      " 0.54254217 0.47536659 0.4272612  0.47161995 0.48674144 0.48058114\n",
      " 0.50522993 0.45712454 0.50148329 0.51660478 0.51044448 0.38994896\n",
      " 0.43430771 0.4494292  0.4432689  0.38620232 0.40132381 0.39516351\n",
      " 0.44568256 0.43952226 0.45464375]\n",
      "Dw from w\n",
      "[0.81800315 0.9256273  0.92470283 0.77792007 0.88190495]\n"
     ]
    }
   ],
   "source": [
    "wL = w_from_L(S_prec)\n",
    "print(\"w from L\")\n",
    "print(wL)\n",
    "\n",
    "w = W_init(S_prec)\n",
    "print(\"w\")\n",
    "print(w)\n",
    "\n",
    "Lw = L_from_w(w)\n",
    "print(\"Lw from w\")\n",
    "print(Lw) \n",
    "\n",
    "Lstar = L_star(Lw)\n",
    "print(\"Lstar from Lw\")\n",
    "print(Lstar) \n",
    "\n",
    "Aw = A_from_w(w)\n",
    "print('Aw from w')\n",
    "print(Aw)\n",
    "\n",
    "wA = w_from_A(Aw)\n",
    "print('w from A')\n",
    "print(wA)\n",
    "\n",
    "Astar = A_star(Aw)\n",
    "print('Astar from Aw')\n",
    "print(Astar)\n",
    "\n",
    "Dstar = D_star(w)\n",
    "print('Dstar from w')\n",
    "print(Dstar)\n",
    "\n",
    "Dw = D_from_w(w)\n",
    "print('Dw from w')\n",
    "print(Dw)"
   ]
  },
  {
   "cell_type": "markdown",
   "id": "1eb504f1",
   "metadata": {},
   "source": [
    "## Code From Paper"
   ]
  },
  {
   "cell_type": "code",
   "execution_count": 88,
   "id": "5c7a21a7",
   "metadata": {},
   "outputs": [],
   "source": [
    "log_rw_returns = pd.read_csv(\"log_rw_returns.csv\")\n",
    "\n",
    "winLen = 200\n",
    "\n",
    "X = scale(log_rw_returns[0:winLen].to_numpy())\n",
    "\n",
    "# number of nodes\n",
    "p = X.shape[1] # Predictors\n",
    "k = 1 # Clusters\n",
    "\n",
    "# number of observations\n",
    "T_n = X.shape[0]\n",
    "sigma_e = np.exp(0.1) # Student T Distribution Standard Dev. \n",
    "alpha = 2/(T_n*sigma_e)\n",
    "beta = 2*np.log(sigma_e)/T_n\n",
    "\n",
    "\n",
    "S_cov = np.corrcoef(X.T)\n",
    "S_prec = np.linalg.pinv(S_cov)\n",
    "\n",
    "w = W_init(S_prec)\n",
    "A0 = A_from_w(w)\n",
    "A0 = A0/np.sum(A0,axis=1,keepdims=True)\n",
    "w = w_from_A(A0)\n",
    "\n",
    "Lw = L_from_w(w)\n",
    "Aw = A_from_w(w)\n",
    "\n",
    "eigVals,eigVecs = np.linalg.eigh(Lw)\n",
    "U = eigVecs[:,p-k:]\n",
    "\n",
    "a0 = 1\n",
    "a = np.repeat(a0, p*(p-1)/2) \n",
    "w_lagged = np.repeat(0, p*(p-1)/2)\n",
    "\n",
    "Theta = Lw.copy()\n",
    "Phi_n = np.zeros((p,p))\n",
    "\n",
    "eta = 1e-8\n",
    "\n",
    "u_n = w - a*w_lagged\n",
    "mu_vec = np.repeat(0,p*(p-1)/2) # u_n ADMM dual\n",
    "\n",
    "d = 1 # degree Constraint\n",
    "z_n = np.repeat(0,p) # Degree Dual \n",
    "\n",
    "V = np.zeros((p,k))# p x k  {p = predictors, k = clusters}\n",
    "\n",
    "rho = 1                 # ADMM hyperparameter. \n",
    "gamma = 10\n",
    "mu = 2\n",
    "tau = 2\n",
    "\n",
    "# residual vectors\n",
    "primal_lap_residual = np.array([], dtype=float)\n",
    "primal_deg_residual = np.array([], dtype=float)\n",
    "dual_residual       = np.array([], dtype=float)\n",
    "\n",
    "lagrangian = np.array([], dtype=float)\n",
    "eta_seq = np.array([], dtype=float)\n",
    "\n",
    "elapsed_time = np.array([], dtype=float)"
   ]
  },
  {
   "cell_type": "code",
   "execution_count": 89,
   "id": "8e1ff680",
   "metadata": {},
   "outputs": [],
   "source": [
    "x = X[0:winLen,:]"
   ]
  },
  {
   "cell_type": "code",
   "execution_count": null,
   "id": "4242d68e",
   "metadata": {},
   "outputs": [
    {
     "name": "stdout",
     "output_type": "stream",
     "text": [
      "[[ 1.44585728 -0.37923887 -0.44282582 -0.26005171 -0.36374089]\n",
      " [-0.37923887  1.48845796 -0.39252868 -0.37573339 -0.34095702]\n",
      " [-0.44282582 -0.39252868  1.47060587 -0.31423994 -0.32101143]\n",
      " [-0.26005171 -0.37573339 -0.31423994  1.25513167 -0.30510663]\n",
      " [-0.36374089 -0.34095702 -0.32101143 -0.30510663  1.33081597]]\n"
     ]
    }
   ],
   "source": [
    "def L_update( wn, Phi_n, rho, p, k):\n",
    "\n",
    "    ''' \n",
    "    L_n: Laplace Matrix (Ln = Diag(Wn1) - Wn = Lwn) Laplacian operator “A Unified Framework for Structured Graph Learning via Spectral Constraints”\n",
    "    Phi_n: ADMM Dual Variable \n",
    "    rho: ADMM Hyperparameter\n",
    "    p: Number of time series\n",
    "    k: Clusters\n",
    "    '''\n",
    "    # Reference: Equation 16\n",
    "    \n",
    "    Y = L_from_w(wn) + Phi_n/rho\n",
    "\n",
    "    eigVals,eigVecs = np.linalg.eigh(Y)\n",
    "    eigenVecs = eigVecs[:, ::-1]       # take first (p-k) eigenvectors\n",
    "    eigenVals = eigVals[::-1]  \n",
    "    U = eigenVecs[:, :p-k]         # take first (p-k) eigenvectors\n",
    "    R = np.diag(eigenVals[:p-k]  )\n",
    "    I = np.eye(R.shape[0]) \n",
    "    LnUpdate = 0.5 * U @ ( R + np.sqrt(  R**2 + 4/rho * I  ) ) @ U.T\n",
    "\n",
    "\n",
    "\n",
    "    return LnUpdate\n",
    "\n",
    "\n",
    "LnUpdate = L_update( w, Phi_n, rho, p, k)\n",
    "print(LnUpdate)"
   ]
  },
  {
   "cell_type": "code",
   "execution_count": 91,
   "id": "ea9bf5d3",
   "metadata": {},
   "outputs": [
    {
     "name": "stdout",
     "output_type": "stream",
     "text": [
      "mu: [0.0026712  0.00376902 0.00266057 0.00519398 0.00399088]\n",
      "nu: 96.80952131922479\n",
      "Sigma:\n",
      " [[0.98267939 0.33956943 0.36533814 0.23940811 0.30947462]\n",
      " [0.33956943 0.97688458 0.38187802 0.34141243 0.32973638]\n",
      " [0.36533814 0.38187802 0.97974535 0.29317185 0.31151825]\n",
      " [0.23940811 0.34141243 0.29317185 0.98235591 0.24193639]\n",
      " [0.30947462 0.32973638 0.31151825 0.24193639 0.97993238]]\n",
      "Precision:\n",
      " [[ 1.29840624 -0.22911066 -0.29818026 -0.09493364 -0.21473029]\n",
      " [-0.22911066  1.39839976 -0.30095673 -0.28306037 -0.23263159]\n",
      " [-0.29818026 -0.30095673  1.36532152 -0.18253577 -0.19352857]\n",
      " [-0.09493364 -0.28306037 -0.18253577  1.22319206 -0.11873941]\n",
      " [-0.21473029 -0.23263159 -0.19352857 -0.11873941  1.25740894]]\n"
     ]
    }
   ],
   "source": [
    "\n",
    "# Reference\n",
    "# https://zouyuxin.github.io/Note/EMtDistribution.pdf\n",
    "# https://shoichimidorikawa.github.io/Lec/ProbDistr/t-e.pdf\n",
    "def fit_multivariate_t(\n",
    "    X,\n",
    "    nu_init=10.0,\n",
    "    max_iter=200,\n",
    "    tol=1e-6,\n",
    "    fix_nu=None,\n",
    "    jitter=1e-6,\n",
    "    verbose=False,\n",
    "):\n",
    "    \"\"\"\n",
    "    Estimate (mu, Sigma, nu) for a multivariate Student's t via EM.\n",
    "\n",
    "    Parameters\n",
    "    ----------\n",
    "    X : array, shape (n_samples, n_features)\n",
    "        Data.\n",
    "    nu_init : float\n",
    "        Initial degrees of freedom (ignored if fix_nu is not None).\n",
    "    max_iter : int\n",
    "        Maximum EM iterations.\n",
    "    tol : float\n",
    "        Relative tolerance on log-likelihood for convergence.\n",
    "    fix_nu : float or None\n",
    "        If set, keep nu fixed at this value.\n",
    "    jitter : float\n",
    "        Diagonal jitter multiplier for numerical stability.\n",
    "    verbose : bool\n",
    "        Print progress if True.\n",
    "\n",
    "    Returns\n",
    "    -------\n",
    "    mu : array, shape (p,)\n",
    "    Sigma : array, shape (p, p)\n",
    "    nu : float\n",
    "    history : dict with 'loglik'\n",
    "    \"\"\"\n",
    "    X = np.asarray(X)\n",
    "    n, p = X.shape\n",
    "\n",
    "    # Initialize\n",
    "    mu = X.mean(axis=0)\n",
    "    # sample covariance (unbiased=False), add tiny jitter\n",
    "    centered0 = X - mu\n",
    "    Sigma = centered0.T @ centered0 / n\n",
    "    Sigma += np.eye(p) * (jitter * np.trace(Sigma) / p + 1e-12)\n",
    "    nu = float(nu_init if fix_nu is None else fix_nu)\n",
    "\n",
    "    def mahal_sq(Sigma, X, mu):\n",
    "        # δ_i = (x_i - mu)^T Sigma^{-1} (x_i - mu)\n",
    "        L = np.linalg.cholesky(Sigma)\n",
    "        Y = np.linalg.solve(L, (X - mu).T)   # shape (p, n)\n",
    "        return np.sum(Y * Y, axis=0)         # shape (n,)\n",
    "\n",
    "    def loglik(mu, Sigma, nu):\n",
    "        # log-likelihood of multivariate t\n",
    "        sgn, logdet = slogdet(Sigma)\n",
    "        if sgn <= 0:\n",
    "            return -np.inf\n",
    "        delta = mahal_sq(Sigma, X, mu)\n",
    "        term1 = gammaln((nu + p) / 2) - gammaln(nu / 2)\n",
    "        term2 = - (p / 2) * np.log(nu * np.pi) - 0.5 * logdet\n",
    "        term3 = - ((nu + p) / 2) * np.log1p(delta / nu)\n",
    "        return np.sum(term1 + term2 + term3)\n",
    "\n",
    "    ll_old = -np.inf\n",
    "    history = {'loglik': []}\n",
    "\n",
    "    for it in range(1, max_iter + 1):\n",
    "        # E-step\n",
    "        delta = mahal_sq(Sigma, X, mu)\n",
    "        w = (nu + p) / (nu + delta)  # E[lambda_i | x_i]\n",
    "        eloglam = digamma((nu + p) / 2) - np.log((nu + delta) / 2)  # E[log lambda_i | x_i]\n",
    "\n",
    "        # M-step: mu (weighted mean)\n",
    "        sumw = w.sum()\n",
    "        mu = (w[:, None] * X).sum(axis=0) / sumw\n",
    "\n",
    "        # M-step: Sigma\n",
    "        Xc = X - mu\n",
    "        Sigma = (Xc.T * w) @ Xc / n\n",
    "        # stabilize\n",
    "        Sigma += np.eye(p) * (jitter * np.trace(Sigma) / p + 1e-12)\n",
    "\n",
    "        # M-step: nu (solve for root of dQ/dnu = 0) unless fixed\n",
    "        if fix_nu is None:\n",
    "            # f(nu) = log(nu/2) - psi(nu/2) + 1 + (1/n) * sum(E[log lambda_i] - E[lambda_i]) = 0\n",
    "            c = (eloglam.mean() - w.mean())\n",
    "\n",
    "            def f(nu_):\n",
    "                return np.log(nu_ / 2.0) - digamma(nu_ / 2.0) + 1.0 + c\n",
    "\n",
    "            def fprime(nu_):\n",
    "                return 1.0 / nu_ - 0.5 * polygamma(1, nu_ / 2.0)\n",
    "\n",
    "            # Newton update with simple guarding\n",
    "            nu_new = max(nu, 2.01)  # keep > 2 so covariance exists\n",
    "            for _ in range(30):\n",
    "                val = f(nu_new)\n",
    "                der = fprime(nu_new)\n",
    "                step = val / der\n",
    "                nu_new = nu_new - step\n",
    "                if nu_new < 2.01:\n",
    "                    nu_new = 2.01\n",
    "                if abs(step) / nu_new < 1e-6:\n",
    "                    break\n",
    "            nu = float(nu_new)\n",
    "        else:\n",
    "            nu = float(fix_nu)\n",
    "\n",
    "        # Evaluate log-likelihood and check convergence\n",
    "        ll = loglik(mu, Sigma, nu)\n",
    "        history['loglik'].append(ll)\n",
    "        if verbose:\n",
    "            print(f\"iter {it:3d}: ll={ll:.6f}, nu={nu:.4f}\")\n",
    "\n",
    "        if np.isfinite(ll_old):\n",
    "            if abs(ll - ll_old) / (abs(ll_old) + 1e-12) < tol:\n",
    "                break\n",
    "        ll_old = ll\n",
    "\n",
    "    return mu, Sigma, nu, history\n",
    "\n",
    "\n",
    "\n",
    "\n",
    "\n",
    "\n",
    "\n",
    "# X: (n_samples, n_features) data\n",
    "\n",
    "mu, Sigma, nu, history = fit_multivariate_t( x, nu_init=30.0, max_iter=200, tol=1e-6, fix_nu=None, jitter=1e-6, verbose=False)\n",
    "print(\"mu:\", mu)\n",
    "print(\"nu:\", nu)\n",
    "print(\"Sigma:\\n\", Sigma)\n",
    "print(\"Precision:\\n\", np.linalg.pinv(Sigma))"
   ]
  },
  {
   "cell_type": "markdown",
   "id": "0084d5f9",
   "metadata": {},
   "source": [
    "### w update "
   ]
  },
  {
   "cell_type": "code",
   "execution_count": 92,
   "id": "d610c8e2",
   "metadata": {},
   "outputs": [
    {
     "data": {
      "text/plain": [
       "array([0.27151178, 0.39734725, 0.14655057, 0.31310886, 0.30801476,\n",
       "       0.37423491, 0.26768746, 0.25462155, 0.23495535, 0.28050103])"
      ]
     },
     "execution_count": 92,
     "metadata": {},
     "output_type": "execute_result"
    }
   ],
   "source": [
    "def w_update( w, w_lagged, x, p, nu, LnUpdate, a, u_n, z_n, Phi_n, rho, d, eta, beta):\n",
    "\n",
    "    Lw = L_from_w(w)\n",
    "\n",
    "    # can be replaced by an einsum\n",
    "\n",
    "    S_sum = 0\n",
    "    for t in range(0,winLen):\n",
    "        S_sum += ( np.outer(x[t,:],x[t,:]) )/( x[t,:].T @ Lw @ x[t,:] + nu )\n",
    "    C = (p + nu)/winLen\n",
    "    S_tilde = C * S_sum\n",
    "\n",
    "\n",
    "    aw = L_star(S_tilde + Phi_n + rho*(Lw - LnUpdate) + eta*np.outer(V,V.T) )\n",
    "    bw = -u_n - rho*( u_n + np.multiply(a,w_lagged) ) + D_star(z_n - rho*(d - D_from_w(w) ))\n",
    "    cw = (1 - rho/(rho*(4*rho -1) ) ) * w - 1/( rho*(4*rho - 1) ) * (aw + bw)\n",
    "    cth = np.sqrt((2*beta)/(rho*(4*rho - 1))) * np.repeat(1,p*(p-1)/2)\n",
    "\n",
    "    wUpdate = np.multiply((cw > cth),cw)\n",
    "    return wUpdate\n",
    "\n",
    "wUpdate = w_update(w, w_lagged, x, p, nu, LnUpdate, a, u_n, z_n, Phi_n, rho, d, eta, beta)\n",
    "wUpdate"
   ]
  },
  {
   "cell_type": "markdown",
   "id": "77a29723",
   "metadata": {},
   "source": [
    "### u update"
   ]
  },
  {
   "cell_type": "code",
   "execution_count": 93,
   "id": "5672287f",
   "metadata": {},
   "outputs": [
    {
     "data": {
      "text/plain": [
       "array([0.2624634 , 0.38829888, 0.1375022 , 0.30406049, 0.29896639,\n",
       "       0.36518653, 0.25863908, 0.24557317, 0.22590698, 0.27145265])"
      ]
     },
     "execution_count": 93,
     "metadata": {},
     "output_type": "execute_result"
    }
   ],
   "source": [
    "def softThresh(v,thr):\n",
    "    temp = abs(v) - thr\n",
    "    temp = temp*(temp>0)\n",
    "    return(np.sign(v)*temp)\n",
    "\n",
    "\n",
    "def u_update(wUpdate,a,w_lagged,mu_vec,rho,alpha):\n",
    "    # Update u\n",
    "    u  = wUpdate - a*w_lagged - mu_vec/rho\n",
    "    thr = alpha/(rho)\n",
    "    uUpdate = softThresh(u, thr)\n",
    "    return uUpdate\n",
    "\n",
    "uUpdate = u_update(wUpdate,a,w_lagged,mu_vec,rho,alpha)\n",
    "uUpdate"
   ]
  },
  {
   "cell_type": "markdown",
   "id": "8ca670a3",
   "metadata": {},
   "source": [
    "### X update"
   ]
  },
  {
   "cell_type": "code",
   "execution_count": 55,
   "id": "2c20e8d8",
   "metadata": {},
   "outputs": [],
   "source": [
    "pass"
   ]
  },
  {
   "cell_type": "markdown",
   "id": "9e83bd46",
   "metadata": {},
   "source": [
    "### a update"
   ]
  },
  {
   "cell_type": "code",
   "execution_count": 96,
   "id": "d171c295",
   "metadata": {},
   "outputs": [
    {
     "data": {
      "text/plain": [
       "array([0, 0, 0, 0, 0, 0, 0, 0, 0, 0])"
      ]
     },
     "execution_count": 96,
     "metadata": {},
     "output_type": "execute_result"
    }
   ],
   "source": [
    "\n",
    "def a_update(a,wUpdate,uUpdate,mu_vec,gamma,rho,w_lagged):\n",
    "    # update a\n",
    "    f_temp = wUpdate - uUpdate - mu_vec/rho\n",
    "    f_temp[f_temp<0] = 0\n",
    "    idx = w_lagged > 0\n",
    "    thr = gamma/(rho* w_lagged[idx]^2)\n",
    "    a[idx] = softThresh(f_temp[idx]/w_lagged[idx], thr)\n",
    "    a[~idx] = 0\n",
    "    aUpdate = a.copy()\n",
    "    return aUpdate\n",
    "\n",
    "aUpdate = a_update( a, wUpdate, uUpdate, mu_vec, gamma, rho, w_lagged)\n",
    "\n",
    "aUpdate"
   ]
  },
  {
   "cell_type": "markdown",
   "id": "e79a47a9",
   "metadata": {},
   "source": [
    "### V update"
   ]
  },
  {
   "cell_type": "code",
   "execution_count": 97,
   "id": "1759e0f9",
   "metadata": {},
   "outputs": [
    {
     "data": {
      "text/plain": [
       "array([[0.4472136],\n",
       "       [0.4472136],\n",
       "       [0.4472136],\n",
       "       [0.4472136],\n",
       "       [0.4472136]])"
      ]
     },
     "execution_count": 97,
     "metadata": {},
     "output_type": "execute_result"
    }
   ],
   "source": [
    "def V_update(wUpdate):\n",
    "\n",
    "    LwUpdate = L_from_w(wUpdate)\n",
    "\n",
    "    # update V\n",
    "    eigenVals, eigenVectors = np.linalg.eigh(LwUpdate) # Returns in Ascending Order\n",
    "    vUpdate = eigVecs[:, :k]   # smallest k eigenvalues\n",
    "    return vUpdate\n",
    "\n",
    "vUpdate = V_update(wUpdate)\n",
    "vUpdate"
   ]
  },
  {
   "cell_type": "markdown",
   "id": "b6a4fc43",
   "metadata": {},
   "source": [
    "### Dual Variable Update"
   ]
  },
  {
   "cell_type": "code",
   "execution_count": 98,
   "id": "dd068462",
   "metadata": {},
   "outputs": [
    {
     "name": "stdout",
     "output_type": "stream",
     "text": [
      "[[-0.31733882  0.10772709  0.04547857  0.11350114  0.05063203]\n",
      " [ 0.10772709 -0.26700906  0.08451392  0.00149848  0.07326956]\n",
      " [ 0.04547857  0.08451392 -0.27566696  0.0596184   0.08605608]\n",
      " [ 0.11350114  0.00149848  0.0596184  -0.19922361  0.0246056 ]\n",
      " [ 0.05063203  0.07326956  0.08605608  0.0246056  -0.23456327]]\n",
      "[-0.00904837 -0.00904837 -0.00904837 -0.00904837 -0.00904837 -0.00904837\n",
      " -0.00904837 -0.00904837 -0.00904837 -0.00904837]\n",
      "[0.12851846 0.2214489  0.19493891 0.05590805 0.0962527 ]\n"
     ]
    }
   ],
   "source": [
    "def dual_update( wUpdate, LnUpdate, aUpdate, uUpdate):\n",
    "    # update Phi\n",
    "    R1 =  L_from_w(wUpdate) - LnUpdate\n",
    "    Phi_nUpdate = Phi_n + rho * R1\n",
    "\n",
    "    # update mu\n",
    "    R0 = uUpdate - wUpdate + np.multiply(aUpdate,w_lagged) \n",
    "    mu_vecUpdate = mu_vec + rho * R0\n",
    "\n",
    "    # update z\n",
    "    R2 = D_from_w(wUpdate) - d\n",
    "    z_nUpdate = z_n + rho * R2\n",
    "\n",
    "    return Phi_nUpdate, mu_vecUpdate, z_nUpdate\n",
    "\n",
    "Phi_nUpdate, mu_vecUpdate, z_nUpdate = dual_update(wUpdate,LnUpdate,aUpdate,uUpdate)\n",
    "\n",
    "print(Phi_nUpdate)\n",
    "print(mu_vecUpdate)\n",
    "print(z_nUpdate)"
   ]
  },
  {
   "cell_type": "code",
   "execution_count": null,
   "id": "033bc20a",
   "metadata": {},
   "outputs": [
    {
     "data": {
      "text/plain": [
       "array([0.27151178, 0.39734725, 0.14655057, 0.31310886, 0.30801476,\n",
       "       0.37423491, 0.26768746, 0.25462155, 0.23495535, 0.28050103])"
      ]
     },
     "execution_count": 100,
     "metadata": {},
     "output_type": "execute_result"
    }
   ],
   "source": [
    "L_n = LnUpdate\n",
    "w = wUpdate\n",
    "\n",
    "u_n = uUpdate\n",
    "\n",
    "# x Pass\n",
    "\n",
    "a = aUpdate\n",
    "V = vUpdate\n",
    "\n",
    "Phu_n = Phi_nUpdate\n",
    "mu_vec = mu_vecUpdate\n",
    "z_n = z_nUpdate\n",
    "\n"
   ]
  }
 ],
 "metadata": {
  "kernelspec": {
   "display_name": "ml_venv (3.11.7)",
   "language": "python",
   "name": "python3"
  },
  "language_info": {
   "codemirror_mode": {
    "name": "ipython",
    "version": 3
   },
   "file_extension": ".py",
   "mimetype": "text/x-python",
   "name": "python",
   "nbconvert_exporter": "python",
   "pygments_lexer": "ipython3",
   "version": "3.11.7"
  }
 },
 "nbformat": 4,
 "nbformat_minor": 5
}
